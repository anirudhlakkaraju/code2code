{
 "cells": [
  {
   "cell_type": "code",
   "execution_count": 2,
   "id": "5eba5bd6-2fc8-481a-a0e7-1b827914502c",
   "metadata": {},
   "outputs": [],
   "source": [
    "from codegen_sources.preprocessing.lang_processors.cpp_processor import CppProcessor\n",
    "from codegen_sources.preprocessing.lang_processors.python_processor import PythonProcessor\n",
    "from codegen_sources.preprocessing.lang_processors.java_processor import JavaProcessor\n",
    "from codegen_sources.preprocessing.lang_processors.lang_processor import LangProcessor"
   ]
  },
  {
   "cell_type": "code",
   "execution_count": 3,
   "id": "20420c76-7415-47ac-b72d-d231d08c6e41",
   "metadata": {},
   "outputs": [],
   "source": [
    "py_processor = LangProcessor.processors[\"python\"](root_folder=\"./build\")\n",
    "cpp_processor = LangProcessor.processors[\"cpp\"](root_folder=\"./build\")\n",
    "java_processor = LangProcessor.processors[\"java\"](root_folder=\"./build\")\n",
    "\n",
    "#You most probably dot need the tokenizers\n",
    "py_tokenizer = py_processor.tokenize_code\n",
    "cpp_tokenizer = cpp_processor.tokenize_code\n",
    "java_tokenizer = java_processor.tokenize_code\n",
    "\n",
    "#Use the detokenizers on the outputs\n",
    "py_detokenizer = py_processor.detokenize_code\n",
    "cpp_detokenizer = cpp_processor.detokenize_code\n",
    "java_detokenizer = java_processor.detokenize_code"
   ]
  },
  {
   "cell_type": "code",
   "execution_count": 4,
   "id": "ea876798-8f03-4a6c-829f-67ce437d3535",
   "metadata": {},
   "outputs": [],
   "source": [
    "output_codestring = \"\"\"class Solution : NEW_LINE INDENT def longestWord ( words ) : NEW_LINE INDENT trie = Solution ( ) NEW_LINE for i in range ( len ( words ) ) : NEW_LINE INDENT trie . Insert ( words [ i ] , i ) NEW_LINE DEDENT DEDENT stk = [ ] NEW_LINE for node in trie . leaves : NEW_LINE INDENT if node : NEW_LINE INDENT stk . append ( node ) NEW_LINE DEDENT DEDENT result = None NEW_LINE while len ( stk ) != 0 : NEW_LINE INDENT curr = stk [ - 1 ] NEW_LINE stk . pop ( ) NEW_LINE DEDENT if curr . isString : NEW_LINE INDENT word = words [ curr . val ] NEW_LINE if len ( word ) > len ( result ) or ( len ( word ) == len ( result ) and word < result ) : NEW_LINE INDENT result = word NEW_LINE DEDENT DEDENT for node in curr . leaves : NEW_LINE INDENT if node : NEW_LINE INDENT stk . append ( node ) NEW_LINE DEDENT DEDENT return result NEW_LINE DEDENT def Insert ( s , i ) : NEW_LINE INDENT p = this NEW_LINE for c in s : NEW_LINE INDENT if not p . leaves [ c - ' a ' ] : NEW_LINE INDENT p . leaves [ c - ' a ' ] =\"\"\"\n",
    "\n",
    "processed_output = py_detokenizer(output_codestring)"
   ]
  },
  {
   "cell_type": "code",
   "execution_count": 5,
   "id": "dd51a154-a3fb-422a-b4cb-0a4861722e03",
   "metadata": {},
   "outputs": [
    {
     "name": "stdout",
     "output_type": "stream",
     "text": [
      "class Solution :\n",
      "    def longestWord ( words ) :\n",
      "        trie = Solution ( )\n",
      "        for i in range ( len ( words ) ) :\n",
      "            trie.Insert ( words [ i ] , i )\n",
      "    stk = [ ]\n",
      "    for node in trie.leaves :\n",
      "        if node :\n",
      "            stk.append ( node )\n",
      "    result = None\n",
      "    while len ( stk ) != 0 :\n",
      "        curr = stk [ - 1 ]\n",
      "        stk.pop ( )\n",
      "    if curr.isString :\n",
      "        word = words [ curr.val ]\n",
      "        if len ( word ) > len ( result ) or ( len ( word ) == len ( result ) and word < result ) :\n",
      "            result = word\n",
      "    for node in curr.leaves :\n",
      "        if node :\n",
      "            stk.append ( node )\n",
      "    return result\n",
      "def Insert ( s , i ) :\n",
      "    p = this\n",
      "    for c in s :\n",
      "        if not p.leaves [ c - 'a' ] :\n",
      "            p.leaves [ c - 'a' ] =\n"
     ]
    }
   ],
   "source": [
    "print(processed_output)"
   ]
  },
  {
   "cell_type": "code",
   "execution_count": null,
   "id": "7e7977e4-907c-4225-bf56-a8c9cbdc4374",
   "metadata": {},
   "outputs": [],
   "source": []
  }
 ],
 "metadata": {
  "kernelspec": {
   "display_name": "Python 3",
   "language": "python",
   "name": "python3"
  },
  "language_info": {
   "codemirror_mode": {
    "name": "ipython",
    "version": 3
   },
   "file_extension": ".py",
   "mimetype": "text/x-python",
   "name": "python",
   "nbconvert_exporter": "python",
   "pygments_lexer": "ipython3",
   "version": "3.6.9"
  }
 },
 "nbformat": 4,
 "nbformat_minor": 5
}
